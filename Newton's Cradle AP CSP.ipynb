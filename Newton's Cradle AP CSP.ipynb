{
 "cells": [
  {
   "cell_type": "code",
   "execution_count": 1,
   "metadata": {
    "cocalc": {
     "outputs": {
      "11": {
       "name": "input",
       "opts": {
        "password": false,
        "prompt": "How many balls would you like to raise in your Newton's Cradle? Please enter a whole number between 1 and 4: "
       },
       "output_type": "stream",
       "value": "3"
      },
      "12": {
       "name": "input",
       "opts": {
        "password": false,
        "prompt": "To what angle, in degrees, would you like to raise the balls to? Please enter a whole number between 0 and 80: "
       },
       "output_type": "stream"
      },
      "15": {
       "name": "input",
       "opts": {
        "password": false,
        "prompt": "Here's your Newton's Cradle! Press enter to start:"
       },
       "output_type": "stream",
       "value": ""
      },
      "8": {
       "name": "input",
       "opts": {
        "password": false,
        "prompt": "Welcome to the Newton's Cradle simulator! Press enter to continue:"
       },
       "output_type": "stream",
       "value": ""
      },
      "9": {
       "name": "input",
       "opts": {
        "password": false,
        "prompt": "How many balls would you like in your Newton's Cradle? Please enter a whole number between 3 and 8: "
       },
       "output_type": "stream",
       "value": "5"
      }
     }
    },
    "collapsed": false
   },
   "outputs": [
    {
     "data": {
      "application/javascript": "require.undef(\"nbextensions/vpython_libraries/glow.min\");"
     },
     "execution_count": 1,
     "metadata": {
     },
     "output_type": "execute_result"
    },
    {
     "data": {
      "application/javascript": "require.undef(\"nbextensions/vpython_libraries/glowcomm\");"
     },
     "execution_count": 1,
     "metadata": {
     },
     "output_type": "execute_result"
    },
    {
     "data": {
      "application/javascript": "require.undef(\"nbextensions/vpython_libraries/jquery-ui.custom.min\");"
     },
     "execution_count": 1,
     "metadata": {
     },
     "output_type": "execute_result"
    },
    {
     "data": {
      "application/javascript": "require([\"nbextensions/vpython_libraries/glow.min\"], function(){console.log(\"GLOW LOADED\");})"
     },
     "execution_count": 1,
     "metadata": {
     },
     "output_type": "execute_result"
    },
    {
     "data": {
      "application/javascript": "require([\"nbextensions/vpython_libraries/glowcomm\"], function(){console.log(\"GLOWCOMM LOADED\");})"
     },
     "execution_count": 1,
     "metadata": {
     },
     "output_type": "execute_result"
    },
    {
     "data": {
      "application/javascript": "require([\"nbextensions/vpython_libraries/jquery-ui.custom.min\"], function(){console.log(\"JQUERY LOADED\");})"
     },
     "execution_count": 1,
     "metadata": {
     },
     "output_type": "execute_result"
    },
    {
     "data": {
      "text/html": [
       "<div id=\"glowscript\" class=\"glowscript\"></div>"
      ]
     },
     "execution_count": 1,
     "metadata": {
     },
     "output_type": "execute_result"
    },
    {
     "data": {
      "application/javascript": "window.__context = { glowscript_container: $(\"#glowscript\").removeAttr(\"id\")}"
     },
     "execution_count": 1,
     "metadata": {
     },
     "output_type": "execute_result"
    },
    {
     "name": "stdout",
     "output_type": "stream",
     "text": "Welcome to the Newton's Cradle simulator! Press enter to continue: "
    },
    {
     "name": "stdout",
     "output_type": "stream",
     "text": "How many balls would you like in your Newton's Cradle? Please enter a whole number between 3 and 8:  5"
    },
    {
     "name": "stdout",
     "output_type": "stream",
     "text": [
      "\n"
     ]
    },
    {
     "name": "stdout",
     "output_type": "stream",
     "text": "How many balls would you like to raise in your Newton's Cradle? Please enter a whole number between 1 and 4:  3"
    },
    {
     "name": "stdout",
     "output_type": "stream",
     "text": "To what angle, in degrees, would you like to raise the balls to? Please enter a whole number between 0 and 80:  "
    },
    {
     "name": "stdout",
     "output_type": "stream",
     "text": [
      "\n"
     ],
     "value": "76"
    },
    {
     "name": "stdout",
     "output_type": "stream",
     "text": [
      "\n"
     ]
    },
    {
     "name": "stdout",
     "output_type": "stream",
     "text": "Here's your Newton's Cradle! Press enter to start: "
    },
    {
     "ename": "KeyboardInterrupt",
     "evalue": "",
     "output_type": "error",
     "traceback": [
      "\u001b[0;31m---------------------------------------------------------------------------\u001b[0m",
      "\u001b[0;31mKeyboardInterrupt\u001b[0m                         Traceback (most recent call last)",
      "\u001b[0;32m<ipython-input-1-fe04ad0a82fc>\u001b[0m in \u001b[0;36m<module>\u001b[0;34m()\u001b[0m\n\u001b[1;32m     64\u001b[0m \u001b[0;34m\u001b[0m\u001b[0m\n\u001b[1;32m     65\u001b[0m \u001b[0;32mwhile\u001b[0m \u001b[0mt\u001b[0m \u001b[0;34m<\u001b[0m \u001b[0;36m50\u001b[0m\u001b[0;34m:\u001b[0m\u001b[0;34m\u001b[0m\u001b[0m\n\u001b[0;32m---> 66\u001b[0;31m     \u001b[0mrate\u001b[0m\u001b[0;34m(\u001b[0m\u001b[0;36m100\u001b[0m\u001b[0;34m)\u001b[0m\u001b[0;34m\u001b[0m\u001b[0m\n\u001b[0m\u001b[1;32m     67\u001b[0m \u001b[0;34m\u001b[0m\u001b[0m\n\u001b[1;32m     68\u001b[0m     \u001b[0;31m# for loop that calculates torque & updates position for each ball\u001b[0m\u001b[0;34m\u001b[0m\u001b[0;34m\u001b[0m\u001b[0m\n",
      "\u001b[0;32m/usr/local/lib/python3.5/dist-packages/vpython/vpython.py\u001b[0m in \u001b[0;36m__call__\u001b[0;34m(self, N)\u001b[0m\n\u001b[1;32m    209\u001b[0m         \u001b[0mself\u001b[0m\u001b[0;34m.\u001b[0m\u001b[0mrval\u001b[0m \u001b[0;34m=\u001b[0m \u001b[0mN\u001b[0m\u001b[0;34m\u001b[0m\u001b[0m\n\u001b[1;32m    210\u001b[0m         \u001b[0;32mif\u001b[0m \u001b[0mself\u001b[0m\u001b[0;34m.\u001b[0m\u001b[0mrval\u001b[0m \u001b[0;34m<\u001b[0m \u001b[0;36m1\u001b[0m\u001b[0;34m:\u001b[0m \u001b[0;32mraise\u001b[0m \u001b[0mValueError\u001b[0m\u001b[0;34m(\u001b[0m\u001b[0;34m\"rate value must be greater than or equal to 1\"\u001b[0m\u001b[0;34m)\u001b[0m\u001b[0;34m\u001b[0m\u001b[0m\n\u001b[0;32m--> 211\u001b[0;31m         \u001b[0msuper\u001b[0m\u001b[0;34m(\u001b[0m\u001b[0m_RateKeeper2\u001b[0m\u001b[0;34m,\u001b[0m \u001b[0mself\u001b[0m\u001b[0;34m)\u001b[0m\u001b[0;34m.\u001b[0m\u001b[0m__call__\u001b[0m\u001b[0;34m(\u001b[0m\u001b[0mself\u001b[0m\u001b[0;34m.\u001b[0m\u001b[0mrval\u001b[0m\u001b[0;34m)\u001b[0m \u001b[0;31m## calls __call__ in rate_control.py\u001b[0m\u001b[0;34m\u001b[0m\u001b[0m\n\u001b[0m\u001b[1;32m    212\u001b[0m \u001b[0;34m\u001b[0m\u001b[0m\n\u001b[1;32m    213\u001b[0m \u001b[0;32mif\u001b[0m \u001b[0msys\u001b[0m\u001b[0;34m.\u001b[0m\u001b[0mversion\u001b[0m \u001b[0;34m>\u001b[0m \u001b[0;34m'3'\u001b[0m\u001b[0;34m:\u001b[0m\u001b[0;34m\u001b[0m\u001b[0m\n",
      "\u001b[0;32m/usr/local/lib/python3.5/dist-packages/vpython/rate_control.py\u001b[0m in \u001b[0;36m__call__\u001b[0;34m(self, maxRate)\u001b[0m\n\u001b[1;32m    205\u001b[0m             \u001b[0mdt\u001b[0m \u001b[0;34m=\u001b[0m \u001b[0mself\u001b[0m\u001b[0;34m.\u001b[0m\u001b[0mlastSleep\u001b[0m \u001b[0;34m+\u001b[0m \u001b[0mself\u001b[0m\u001b[0;34m.\u001b[0m\u001b[0mcalls\u001b[0m\u001b[0;34m*\u001b[0m\u001b[0;34m(\u001b[0m\u001b[0mself\u001b[0m\u001b[0;34m.\u001b[0m\u001b[0muserTime\u001b[0m \u001b[0;34m+\u001b[0m \u001b[0mself\u001b[0m\u001b[0;34m.\u001b[0m\u001b[0mcallTime\u001b[0m \u001b[0;34m+\u001b[0m \u001b[0mself\u001b[0m\u001b[0;34m.\u001b[0m\u001b[0mdelay\u001b[0m\u001b[0;34m)\u001b[0m \u001b[0;34m+\u001b[0m\u001b[0;31m \u001b[0m\u001b[0;31m\\\u001b[0m\u001b[0;34m\u001b[0m\u001b[0m\n\u001b[1;32m    206\u001b[0m                  \u001b[0mrenders\u001b[0m\u001b[0;34m*\u001b[0m\u001b[0mself\u001b[0m\u001b[0;34m.\u001b[0m\u001b[0mrenderTime\u001b[0m \u001b[0;34m+\u001b[0m \u001b[0msleeps\u001b[0m\u001b[0;34m*\u001b[0m\u001b[0mself\u001b[0m\u001b[0;34m.\u001b[0m\u001b[0minteractionPeriod\u001b[0m \u001b[0;34m-\u001b[0m \u001b[0m_clock\u001b[0m\u001b[0;34m(\u001b[0m\u001b[0;34m)\u001b[0m\u001b[0;34m\u001b[0m\u001b[0m\n\u001b[0;32m--> 207\u001b[0;31m             \u001b[0m_sleep\u001b[0m\u001b[0;34m(\u001b[0m\u001b[0mdt\u001b[0m\u001b[0;34m)\u001b[0m\u001b[0;34m\u001b[0m\u001b[0m\n\u001b[0m\u001b[1;32m    208\u001b[0m             \u001b[0mself\u001b[0m\u001b[0;34m.\u001b[0m\u001b[0mlastSleep\u001b[0m \u001b[0;34m=\u001b[0m \u001b[0m_clock\u001b[0m\u001b[0;34m(\u001b[0m\u001b[0;34m)\u001b[0m\u001b[0;34m\u001b[0m\u001b[0m\n\u001b[1;32m    209\u001b[0m             \u001b[0mself\u001b[0m\u001b[0;34m.\u001b[0m\u001b[0mcalls\u001b[0m \u001b[0;34m=\u001b[0m \u001b[0;36m0\u001b[0m\u001b[0;34m\u001b[0m\u001b[0m\n",
      "\u001b[0;32m/usr/local/lib/python3.5/dist-packages/vpython/rate_control.py\u001b[0m in \u001b[0;36m_sleep\u001b[0;34m(dt)\u001b[0m\n\u001b[1;32m     47\u001b[0m         \u001b[0mdtsleep\u001b[0m \u001b[0;34m=\u001b[0m \u001b[0mnticks\u001b[0m\u001b[0;34m*\u001b[0m\u001b[0m_tick\u001b[0m\u001b[0;34m\u001b[0m\u001b[0m\n\u001b[1;32m     48\u001b[0m         \u001b[0mt\u001b[0m \u001b[0;34m=\u001b[0m \u001b[0m_clock\u001b[0m\u001b[0;34m(\u001b[0m\u001b[0;34m)\u001b[0m\u001b[0;34m\u001b[0m\u001b[0m\n\u001b[0;32m---> 49\u001b[0;31m         \u001b[0mtime\u001b[0m\u001b[0;34m.\u001b[0m\u001b[0msleep\u001b[0m\u001b[0;34m(\u001b[0m\u001b[0mdtsleep\u001b[0m\u001b[0;34m)\u001b[0m\u001b[0;34m\u001b[0m\u001b[0m\n\u001b[0m\u001b[1;32m     50\u001b[0m         \u001b[0mt\u001b[0m \u001b[0;34m=\u001b[0m \u001b[0m_clock\u001b[0m\u001b[0;34m(\u001b[0m\u001b[0;34m)\u001b[0m\u001b[0;34m-\u001b[0m\u001b[0mt\u001b[0m\u001b[0;34m\u001b[0m\u001b[0m\n\u001b[1;32m     51\u001b[0m         \u001b[0mdt\u001b[0m \u001b[0;34m-=\u001b[0m \u001b[0mt\u001b[0m\u001b[0;34m\u001b[0m\u001b[0m\n",
      "\u001b[0;31mKeyboardInterrupt\u001b[0m: "
     ]
    }
   ],
   "source": [
    "from vpython import *\n",
    "\n",
    "# Function that facilitates the input of a whole number\n",
    "def inputNumber(inputQuestion, inputQuery):\n",
    "    inputAnswer = input(inputQuestion + \" \" + inputQuery)\n",
    "    while inputAnswer.isdigit() == False:\n",
    "        inputAnswer = input(\"Sorry, your input is not a whole number. \" + inputQuery)\n",
    "    return int(inputAnswer)\n",
    "\n",
    "def inputNumberRange(inputQuestion, minim, maxim):\n",
    "    inputAnswer = inputNumber(inputQuestion, \"Please enter a whole number between {} and {}: \".format(minim, maxim))\n",
    "    while inputAnswer < minim or inputAnswer > maxim:\n",
    "        inputAnswer = inputNumber(\"Sorry, your input is not between {} and {}.\".format(minim, maxim), \"Please enter a whole number between {} and {}: \".format(minim, maxim))\n",
    "    print()\n",
    "    return inputAnswer\n",
    "\n",
    "\n",
    "input(\"Welcome to the Newton's Cradle simulator! Press enter to continue:\")\n",
    "\n",
    "#Sets length of strings\n",
    "length = 10\n",
    "\n",
    "#Creates dictionaries of objects\n",
    "ball = {}\n",
    "string = {}\n",
    "\n",
    "#Sets number of balls for for loops & naming\n",
    "minBalls = 3\n",
    "maxBalls = 8\n",
    "\n",
    "ballNumber = inputNumberRange(\"How many balls would you like in your Newton's Cradle?\", minBalls, maxBalls)\n",
    "ballhalf = ceil(ballNumber/2)\n",
    "\n",
    "# for loop that creates each ball & corresponding string\n",
    "for n in range(1,ballNumber+1):\n",
    "    ball[n] = sphere(pos=vector(2*(n-ballhalf),0,0), radius=1) # position so that center ball is at x=0\n",
    "    ball[n].m = 1\n",
    "    ball[n].v = vector(0,0,0)\n",
    "    ball[n].angmom = vector(0,0,0)\n",
    "    \n",
    "    string[n] = cylinder(pos=vector(ball[n].pos.x+0.001,length,0),radius = 0.1) # pos.x is very close to ball, pos.y is length\n",
    "    string[n].axis = ball[n].pos-string[n].pos # axis stretches from ball to string end\n",
    "\n",
    "sleep(0.2)\n",
    "\n",
    "#Sets number of balls to be raised & angle\n",
    "ballRaiseNumber = inputNumberRange(\"How many balls would you like to raise in your Newton's Cradle?\", 1, ballNumber-1)\n",
    "ballRaiseAngle = inputNumberRange(\"To what angle, in degrees, would you like to raise the balls to?\", 0, 80)\n",
    "\n",
    "# for loop to position raised balls\n",
    "for n in range(1,ballRaiseNumber+1):\n",
    "    theta = radians(ballRaiseAngle) # input is angle in deg \n",
    "    ball[n].pos = vector(ball[n].pos.x-length*sin(theta),(length-length*cos(theta)),0)\n",
    "    string[n].axis = ball[n].pos-string[n].pos # updates string axis\n",
    "\n",
    "sleep(0.2)\n",
    "    \n",
    "input(\"Here's your Newton's Cradle! Press enter to start:\")\n",
    "\n",
    "g = vector(0,-9.8,0)  # Sets gravitational force vector\n",
    "\n",
    "dt = 0.01\n",
    "t = 0\n",
    "\n",
    "while t < 50:\n",
    "    rate(100)\n",
    "    \n",
    "    # for loop that calculates torque & updates position for each ball\n",
    "    for n in range(1,ballNumber+1):\n",
    "        ball[n].theta = -atan(ball[n].pos.y / string[n].axis.x) # calculates angle using arctan\n",
    "        ball[n].Fg = ball[n].m * g\n",
    "        ball[n].torque = cross(ball[n].Fg, string[n].axis) # calculates torque using cross product of Fg & r\n",
    "        ball[n].angmom += ball[n].torque * dt # calculates angular momentum \n",
    "        ball[n].v = mag(ball[n].angmom) / ball[n].m / mag(string[n].axis) * norm(-cross(ball[n].angmom,string[n].axis))\n",
    "        ball[n].pos += ball[n].v * dt\n",
    "        string[n].axis = ball[n].pos-string[n].pos\n",
    "        \n",
    "        if n < ballNumber:\n",
    "            if abs(ball[n].pos.x - ball[n+1].pos.x) < 1.9997:\n",
    "                ball[n+1].angmom = ball[n].angmom\n",
    "                ball[n].angmom = vector(0,0,0)\n",
    "        if n > 1:\n",
    "            if abs(ball[n].pos.x - ball[n-1].pos.x) < 1.9997:\n",
    "                ball[n-1].angmom = ball[n].angmom\n",
    "                ball[n].angmom = vector(0,0,0)\n",
    "    t += dt\n",
    "\n",
    "    "
   ]
  },
  {
   "cell_type": "code",
   "execution_count": 0,
   "metadata": {
    "collapsed": true
   },
   "outputs": [
   ],
   "source": [
   ]
  }
 ],
 "metadata": {
  "kernelspec": {
   "display_name": "VPython",
   "language": "python",
   "name": "vpython"
  },
  "language_info": {
   "codemirror_mode": {
    "name": "ipython",
    "version": 3
   },
   "file_extension": ".py",
   "mimetype": "text/x-python",
   "name": "python",
   "nbconvert_exporter": "python",
   "pygments_lexer": "ipython3",
   "version": "3.5.2"
  }
 },
 "nbformat": 4,
 "nbformat_minor": 0
}